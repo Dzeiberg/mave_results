{
 "cells": [
  {
   "cell_type": "code",
   "execution_count": 1,
   "metadata": {},
   "outputs": [],
   "source": [
    "import numpy as np"
   ]
  },
  {
   "cell_type": "code",
   "execution_count": 10,
   "metadata": {},
   "outputs": [],
   "source": [
    "tauP = np.load(\"/data/dzeiberg/mave_calibration/minerva/figs_10_19_24/OTC_Lo_2023/Tau_p.npy\")"
   ]
  },
  {
   "cell_type": "code",
   "execution_count": 11,
   "metadata": {},
   "outputs": [
    {
     "data": {
      "text/plain": [
       "array([0.12235649, 0.11933809, 0.11570175, 0.11047303,        nan,\n",
       "              nan,        nan,        nan])"
      ]
     },
     "execution_count": 11,
     "metadata": {},
     "output_type": "execute_result"
    }
   ],
   "source": [
    "tauP"
   ]
  },
  {
   "cell_type": "code",
   "execution_count": 9,
   "metadata": {},
   "outputs": [
    {
     "name": "stdout",
     "output_type": "stream",
     "text": [
      "B.npy            num_results.txt                  point_distr_by_label.png\n",
      "cdf_dist.png     oob_df.json                      prior_hist.png\n",
      "fit_fig.png      P.npy                            priors.npy\n",
      "is_inverted.npy  point_distr_by_author_class.csv  results_paths.txt\n",
      "log_lrPlus.npy   point_distr_by_author_class.png  Tau_b.npy\n",
      "log_lrPlus.png   point_distr_by_class.csv         Tau_p.npy\n"
     ]
    }
   ],
   "source": [
    "ls /data/dzeiberg/mave_calibration/minerva/figs_10_19_24/OTC_Lo_2023/"
   ]
  },
  {
   "cell_type": "code",
   "execution_count": null,
   "metadata": {},
   "outputs": [],
   "source": []
  }
 ],
 "metadata": {
  "kernelspec": {
   "display_name": "mave",
   "language": "python",
   "name": "python3"
  },
  "language_info": {
   "codemirror_mode": {
    "name": "ipython",
    "version": 3
   },
   "file_extension": ".py",
   "mimetype": "text/x-python",
   "name": "python",
   "nbconvert_exporter": "python",
   "pygments_lexer": "ipython3",
   "version": "3.10.14"
  }
 },
 "nbformat": 4,
 "nbformat_minor": 2
}
