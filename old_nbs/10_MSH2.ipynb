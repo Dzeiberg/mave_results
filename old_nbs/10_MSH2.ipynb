{
 "cells": [
  {
   "cell_type": "code",
   "execution_count": 25,
   "metadata": {},
   "outputs": [],
   "source": [
    "%matplotlib inline"
   ]
  },
  {
   "cell_type": "code",
   "execution_count": 27,
   "metadata": {},
   "outputs": [],
   "source": [
    "from gen_figs import load_results\n",
    "import matplotlib.pyplot as plt\n",
    "import numpy as np\n",
    "from pathlib import Path\n",
    "import pandas as pd"
   ]
  },
  {
   "cell_type": "code",
   "execution_count": 28,
   "metadata": {},
   "outputs": [],
   "source": [
    "observations = pd.read_json(\"/data/dzeiberg/mave_calibration/processed_datasets/Jia_MSH2_SSM_pipeline_A.json\")"
   ]
  },
  {
   "cell_type": "code",
   "execution_count": 32,
   "metadata": {},
   "outputs": [],
   "source": [
    "rng = np.arange(*observations.scores.min(), *observations.scores.max(), 0.01)"
   ]
  },
  {
   "cell_type": "code",
   "execution_count": 16,
   "metadata": {},
   "outputs": [],
   "source": [
    "results = load_results(\"Jia_MSH2_SSM_pipeline_A\",[Path(\"/data/dzeiberg/mave_calibration/results_10_09_24/\")],\n",
    "                        includes_synonymous=False)"
   ]
  },
  {
   "cell_type": "code",
   "execution_count": 17,
   "metadata": {},
   "outputs": [
    {
     "data": {
      "text/plain": [
       "5000"
      ]
     },
     "execution_count": 17,
     "metadata": {},
     "output_type": "execute_result"
    }
   ],
   "source": [
    "len(results)"
   ]
  },
  {
   "cell_type": "code",
   "execution_count": 33,
   "metadata": {},
   "outputs": [],
   "source": [
    "from joblib import Parallel, delayed\n",
    "from utils.threshold_utils import get_log_lrPlus"
   ]
  },
  {
   "cell_type": "code",
   "execution_count": 34,
   "metadata": {},
   "outputs": [
    {
     "name": "stderr",
     "output_type": "stream",
     "text": [
      "[Parallel(n_jobs=-1)]: Using backend LokyBackend with 128 concurrent workers.\n",
      "[Parallel(n_jobs=-1)]: Batch computation too fast (0.01458287239074707s.) Setting batch_size=2.\n",
      "[Parallel(n_jobs=-1)]: Done   9 tasks      | elapsed:    0.0s\n",
      "[Parallel(n_jobs=-1)]: Done  32 tasks      | elapsed:    0.1s\n",
      "[Parallel(n_jobs=-1)]: Done  57 tasks      | elapsed:    0.1s\n",
      "[Parallel(n_jobs=-1)]: Done  82 tasks      | elapsed:    0.1s\n",
      "[Parallel(n_jobs=-1)]: Done 109 tasks      | elapsed:    0.2s\n",
      "[Parallel(n_jobs=-1)]: Done 136 tasks      | elapsed:    0.2s\n",
      "[Parallel(n_jobs=-1)]: Done 165 tasks      | elapsed:    0.3s\n",
      "[Parallel(n_jobs=-1)]: Done 194 tasks      | elapsed:    0.3s\n",
      "[Parallel(n_jobs=-1)]: Done 226 tasks      | elapsed:    0.3s\n",
      "[Parallel(n_jobs=-1)]: Done 258 tasks      | elapsed:    0.4s\n",
      "[Parallel(n_jobs=-1)]: Done 322 tasks      | elapsed:    0.5s\n",
      "[Parallel(n_jobs=-1)]: Done 388 tasks      | elapsed:    0.5s\n",
      "[Parallel(n_jobs=-1)]: Done 458 tasks      | elapsed:    0.6s\n",
      "[Parallel(n_jobs=-1)]: Done 528 tasks      | elapsed:    0.6s\n",
      "[Parallel(n_jobs=-1)]: Done 602 tasks      | elapsed:    0.7s\n",
      "[Parallel(n_jobs=-1)]: Done 676 tasks      | elapsed:    0.8s\n",
      "[Parallel(n_jobs=-1)]: Done 754 tasks      | elapsed:    0.8s\n",
      "[Parallel(n_jobs=-1)]: Done 832 tasks      | elapsed:    0.9s\n",
      "[Parallel(n_jobs=-1)]: Done 914 tasks      | elapsed:    1.0s\n",
      "[Parallel(n_jobs=-1)]: Done 996 tasks      | elapsed:    1.1s\n",
      "[Parallel(n_jobs=-1)]: Done 1082 tasks      | elapsed:    1.1s\n",
      "[Parallel(n_jobs=-1)]: Done 1168 tasks      | elapsed:    1.2s\n",
      "[Parallel(n_jobs=-1)]: Done 1258 tasks      | elapsed:    1.3s\n",
      "[Parallel(n_jobs=-1)]: Done 1348 tasks      | elapsed:    1.4s\n",
      "[Parallel(n_jobs=-1)]: Done 1442 tasks      | elapsed:    1.5s\n",
      "[Parallel(n_jobs=-1)]: Done 1536 tasks      | elapsed:    1.5s\n",
      "[Parallel(n_jobs=-1)]: Done 1634 tasks      | elapsed:    1.6s\n",
      "[Parallel(n_jobs=-1)]: Done 1732 tasks      | elapsed:    1.7s\n",
      "[Parallel(n_jobs=-1)]: Done 1834 tasks      | elapsed:    1.8s\n",
      "[Parallel(n_jobs=-1)]: Done 1936 tasks      | elapsed:    1.9s\n",
      "[Parallel(n_jobs=-1)]: Done 2042 tasks      | elapsed:    2.0s\n",
      "[Parallel(n_jobs=-1)]: Done 2148 tasks      | elapsed:    2.1s\n",
      "[Parallel(n_jobs=-1)]: Done 2258 tasks      | elapsed:    2.2s\n",
      "[Parallel(n_jobs=-1)]: Done 2368 tasks      | elapsed:    2.2s\n",
      "[Parallel(n_jobs=-1)]: Done 2482 tasks      | elapsed:    2.3s\n",
      "[Parallel(n_jobs=-1)]: Done 2596 tasks      | elapsed:    2.4s\n",
      "[Parallel(n_jobs=-1)]: Done 2714 tasks      | elapsed:    2.5s\n",
      "[Parallel(n_jobs=-1)]: Done 2832 tasks      | elapsed:    2.6s\n",
      "[Parallel(n_jobs=-1)]: Done 2954 tasks      | elapsed:    2.7s\n",
      "[Parallel(n_jobs=-1)]: Done 3076 tasks      | elapsed:    2.8s\n",
      "[Parallel(n_jobs=-1)]: Done 3202 tasks      | elapsed:    3.0s\n",
      "[Parallel(n_jobs=-1)]: Done 3328 tasks      | elapsed:    3.1s\n",
      "[Parallel(n_jobs=-1)]: Done 3458 tasks      | elapsed:    3.2s\n",
      "[Parallel(n_jobs=-1)]: Done 3588 tasks      | elapsed:    3.3s\n",
      "[Parallel(n_jobs=-1)]: Done 3722 tasks      | elapsed:    3.4s\n",
      "[Parallel(n_jobs=-1)]: Done 3856 tasks      | elapsed:    3.5s\n",
      "[Parallel(n_jobs=-1)]: Done 3994 tasks      | elapsed:    3.6s\n",
      "[Parallel(n_jobs=-1)]: Done 4132 tasks      | elapsed:    3.7s\n",
      "[Parallel(n_jobs=-1)]: Done 4274 tasks      | elapsed:    3.8s\n",
      "[Parallel(n_jobs=-1)]: Done 4416 tasks      | elapsed:    3.9s\n",
      "[Parallel(n_jobs=-1)]: Done 4562 tasks      | elapsed:    4.0s\n",
      "[Parallel(n_jobs=-1)]: Done 4745 out of 5000 | elapsed:    4.1s remaining:    0.2s\n",
      "[Parallel(n_jobs=-1)]: Done 5000 out of 5000 | elapsed:    4.2s finished\n"
     ]
    }
   ],
   "source": [
    "log_LRs = Parallel(n_jobs=-1,verbose=10)(delayed(get_log_lrPlus)(rng,1,r) for r in results)"
   ]
  },
  {
   "cell_type": "code",
   "execution_count": 35,
   "metadata": {},
   "outputs": [],
   "source": [
    "LLR = np.stack(log_LRs)"
   ]
  },
  {
   "cell_type": "code",
   "execution_count": 56,
   "metadata": {},
   "outputs": [
    {
     "data": {
      "text/plain": [
       "Text(0, 0.5, '$ \\\\log LR^{+} $')"
      ]
     },
     "execution_count": 56,
     "metadata": {},
     "output_type": "execute_result"
    },
    {
     "data": {
      "image/png": "[encoded data removed]",
      "text/plain": [
       "<Figure size 640x480 with 1 Axes>"
      ]
     },
     "metadata": {},
     "output_type": "display_data"
    }
   ],
   "source": [
    "plt.plot(rng, np.median(LLR,axis=0))\n",
    "plt.fill_between(rng, *np.percentile(LLR,[2.5,97.5],axis=0),alpha=0.5)\n",
    "ax = plt.gca()\n",
    "# secax = ax.secondary_yaxis('right', functions=(lambda x: np.exp(x), lambda x: np.log(x)))\n",
    "plt.axhline(np.log(.05),color='red',linestyle='--')\n",
    "plt.axhline(np.log(18.7),color='red',linestyle='--')\n",
    "plt.xlabel(\"Assay score\")\n",
    "plt.ylabel(r\"$ \\log LR^{+} $\")\n"
   ]
  },
  {
   "cell_type": "code",
   "execution_count": 60,
   "metadata": {},
   "outputs": [
    {
     "data": {
      "text/plain": [
       "array([0.05330416, 0.12904523, 0.21963694])"
      ]
     },
     "execution_count": 60,
     "metadata": {},
     "output_type": "execute_result"
    }
   ],
   "source": [
    "np.exp(np.quantile(LLR, [.025,.5,.975],axis=0)[:,0])"
   ]
  },
  {
   "cell_type": "code",
   "execution_count": 46,
   "metadata": {},
   "outputs": [
    {
     "data": {
      "text/plain": [
       "np.float64(-2.995732273553991)"
      ]
     },
     "execution_count": 46,
     "metadata": {},
     "output_type": "execute_result"
    }
   ],
   "source": [
    "np.log(.05)"
   ]
  },
  {
   "cell_type": "code",
   "execution_count": null,
   "metadata": {},
   "outputs": [],
   "source": []
  }
 ],
 "metadata": {
  "kernelspec": {
   "display_name": "mave",
   "language": "python",
   "name": "python3"
  },
  "language_info": {
   "codemirror_mode": {
    "name": "ipython",
    "version": 3
   },
   "file_extension": ".py",
   "mimetype": "text/x-python",
   "name": "python",
   "nbconvert_exporter": "python",
   "pygments_lexer": "ipython3",
   "version": "3.10.14"
  }
 },
 "nbformat": 4,
 "nbformat_minor": 2
}
